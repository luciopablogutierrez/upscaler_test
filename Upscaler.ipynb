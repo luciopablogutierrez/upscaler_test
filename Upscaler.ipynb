{
 "cells": [
  {
   "cell_type": "code",
   "execution_count": null,
   "metadata": {},
   "outputs": [],
   "source": [
    "from aura_sr import AuraSR\n",
    "\n",
    "aura_sr = AuraSR.from_pretrained(\"fal-ai/AuraSR\")\n",
    "\n",
    "import requests\n",
    "from io import BytesIO\n",
    "from PIL import Image\n",
    "\n",
    "def load_image_from_url(url):\n",
    "    response = requests.get(url)\n",
    "    image_data = BytesIO(response.content)\n",
    "    return Image.open(image_data)\n",
    "\n",
    "image = load_image_from_url(\"https://github.com/luciopablogutierrez/upscaler_test/blob/main/sideofrice__crystal_mutant_gorilla_with_crystals_glowing_on_its_9dd534bb-2fc4-4cea-8065-bd71afb09f2d.png\")\n",
    "upscaled_image = aura_sr.upscale_4x(image)"
   ]
  }
 ],
 "metadata": {
  "language_info": {
   "name": "python"
  }
 },
 "nbformat": 4,
 "nbformat_minor": 2
}
